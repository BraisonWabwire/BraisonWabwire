{
  "nbformat": 4,
  "nbformat_minor": 0,
  "metadata": {
    "colab": {
      "provenance": [],
      "authorship_tag": "ABX9TyM3zSYn+AelFQaQV++XYsml",
      "include_colab_link": true
    },
    "kernelspec": {
      "name": "python3",
      "display_name": "Python 3"
    },
    "language_info": {
      "name": "python"
    }
  },
  "cells": [
    {
      "cell_type": "markdown",
      "metadata": {
        "id": "view-in-github",
        "colab_type": "text"
      },
      "source": [
        "<a href=\"https://colab.research.google.com/github/BraisonWabwire/BraisonWabwire/blob/main/Untitled11.ipynb\" target=\"_parent\"><img src=\"https://colab.research.google.com/assets/colab-badge.svg\" alt=\"Open In Colab\"/></a>"
      ]
    },
    {
      "cell_type": "markdown",
      "source": [
        "# **Text Analysis Report**\n",
        "In this report, I conducted a text analysis project using Python in a Jupyter Notebook. The main tasks included importing the text, creating a search engine and recommendation system, generating text summaries using various techniques, and analyzing the results.\n",
        "\n",
        "**Proposed Text**\n",
        "\n",
        "I imported the following text from my proposal:"
      ],
      "metadata": {
        "id": "vLCjlw8OzPZk"
      }
    },
    {
      "cell_type": "code",
      "source": [
        "# Sample proposal text\n",
        "text = \"\"\"\n",
        "Education is essential for personal and societal growth. It enables individuals to develop skills, gain knowledge, and make informed decisions.\n",
        "The purpose of education goes beyond academic learning; it also fosters critical thinking, creativity, and emotional intelligence.\n",
        "In recent years, technology has transformed educational practices, introducing tools like online learning platforms, virtual classrooms, and interactive simulations.\n",
        "Teachers now play an even more dynamic role as facilitators of learning, guiding students to be independent thinkers and lifelong learners.\n",
        "Moreover, education helps in building a more equitable society by providing opportunities for social mobility and reducing poverty.\n",
        "By understanding the importance of education, societies can invest in future generations to create a better world for everyone.\n",
        "\"\"\"\n"
      ],
      "metadata": {
        "id": "av93sSgEzj5q"
      },
      "execution_count": 2,
      "outputs": []
    },
    {
      "cell_type": "markdown",
      "source": [
        "I broke the text into sentence segments and stored it in a Pandas DataFrame."
      ],
      "metadata": {
        "id": "q4VSl5lmzqSy"
      }
    },
    {
      "cell_type": "code",
      "source": [
        "import pandas as pd\n",
        "import nltk\n",
        "from nltk.tokenize import sent_tokenize\n",
        "\n",
        "# Tokenize the text into sentences\n",
        "nltk.download('punkt')\n",
        "sentences = sent_tokenize(text)\n",
        "df = pd.DataFrame(sentences, columns=['sentence'])\n",
        "df.head()"
      ],
      "metadata": {
        "colab": {
          "base_uri": "https://localhost:8080/",
          "height": 330
        },
        "id": "3qB6blP0zrab",
        "outputId": "8839f7a2-1c24-434e-890e-eb15c7d65f68"
      },
      "execution_count": 3,
      "outputs": [
        {
          "output_type": "stream",
          "name": "stderr",
          "text": [
            "[nltk_data] Downloading package punkt to /root/nltk_data...\n",
            "[nltk_data]   Package punkt is already up-to-date!\n"
          ]
        },
        {
          "output_type": "execute_result",
          "data": {
            "text/plain": [
              "                                            sentence\n",
              "0  \\nEducation is essential for personal and soci...\n",
              "1  It enables individuals to develop skills, gain...\n",
              "2  The purpose of education goes beyond academic ...\n",
              "3  In recent years, technology has transformed ed...\n",
              "4  Teachers now play an even more dynamic role as..."
            ],
            "text/html": [
              "\n",
              "  <div id=\"df-d0c679e6-190c-470e-ae59-614ead659680\" class=\"colab-df-container\">\n",
              "    <div>\n",
              "<style scoped>\n",
              "    .dataframe tbody tr th:only-of-type {\n",
              "        vertical-align: middle;\n",
              "    }\n",
              "\n",
              "    .dataframe tbody tr th {\n",
              "        vertical-align: top;\n",
              "    }\n",
              "\n",
              "    .dataframe thead th {\n",
              "        text-align: right;\n",
              "    }\n",
              "</style>\n",
              "<table border=\"1\" class=\"dataframe\">\n",
              "  <thead>\n",
              "    <tr style=\"text-align: right;\">\n",
              "      <th></th>\n",
              "      <th>sentence</th>\n",
              "    </tr>\n",
              "  </thead>\n",
              "  <tbody>\n",
              "    <tr>\n",
              "      <th>0</th>\n",
              "      <td>\\nEducation is essential for personal and soci...</td>\n",
              "    </tr>\n",
              "    <tr>\n",
              "      <th>1</th>\n",
              "      <td>It enables individuals to develop skills, gain...</td>\n",
              "    </tr>\n",
              "    <tr>\n",
              "      <th>2</th>\n",
              "      <td>The purpose of education goes beyond academic ...</td>\n",
              "    </tr>\n",
              "    <tr>\n",
              "      <th>3</th>\n",
              "      <td>In recent years, technology has transformed ed...</td>\n",
              "    </tr>\n",
              "    <tr>\n",
              "      <th>4</th>\n",
              "      <td>Teachers now play an even more dynamic role as...</td>\n",
              "    </tr>\n",
              "  </tbody>\n",
              "</table>\n",
              "</div>\n",
              "    <div class=\"colab-df-buttons\">\n",
              "\n",
              "  <div class=\"colab-df-container\">\n",
              "    <button class=\"colab-df-convert\" onclick=\"convertToInteractive('df-d0c679e6-190c-470e-ae59-614ead659680')\"\n",
              "            title=\"Convert this dataframe to an interactive table.\"\n",
              "            style=\"display:none;\">\n",
              "\n",
              "  <svg xmlns=\"http://www.w3.org/2000/svg\" height=\"24px\" viewBox=\"0 -960 960 960\">\n",
              "    <path d=\"M120-120v-720h720v720H120Zm60-500h600v-160H180v160Zm220 220h160v-160H400v160Zm0 220h160v-160H400v160ZM180-400h160v-160H180v160Zm440 0h160v-160H620v160ZM180-180h160v-160H180v160Zm440 0h160v-160H620v160Z\"/>\n",
              "  </svg>\n",
              "    </button>\n",
              "\n",
              "  <style>\n",
              "    .colab-df-container {\n",
              "      display:flex;\n",
              "      gap: 12px;\n",
              "    }\n",
              "\n",
              "    .colab-df-convert {\n",
              "      background-color: #E8F0FE;\n",
              "      border: none;\n",
              "      border-radius: 50%;\n",
              "      cursor: pointer;\n",
              "      display: none;\n",
              "      fill: #1967D2;\n",
              "      height: 32px;\n",
              "      padding: 0 0 0 0;\n",
              "      width: 32px;\n",
              "    }\n",
              "\n",
              "    .colab-df-convert:hover {\n",
              "      background-color: #E2EBFA;\n",
              "      box-shadow: 0px 1px 2px rgba(60, 64, 67, 0.3), 0px 1px 3px 1px rgba(60, 64, 67, 0.15);\n",
              "      fill: #174EA6;\n",
              "    }\n",
              "\n",
              "    .colab-df-buttons div {\n",
              "      margin-bottom: 4px;\n",
              "    }\n",
              "\n",
              "    [theme=dark] .colab-df-convert {\n",
              "      background-color: #3B4455;\n",
              "      fill: #D2E3FC;\n",
              "    }\n",
              "\n",
              "    [theme=dark] .colab-df-convert:hover {\n",
              "      background-color: #434B5C;\n",
              "      box-shadow: 0px 1px 3px 1px rgba(0, 0, 0, 0.15);\n",
              "      filter: drop-shadow(0px 1px 2px rgba(0, 0, 0, 0.3));\n",
              "      fill: #FFFFFF;\n",
              "    }\n",
              "  </style>\n",
              "\n",
              "    <script>\n",
              "      const buttonEl =\n",
              "        document.querySelector('#df-d0c679e6-190c-470e-ae59-614ead659680 button.colab-df-convert');\n",
              "      buttonEl.style.display =\n",
              "        google.colab.kernel.accessAllowed ? 'block' : 'none';\n",
              "\n",
              "      async function convertToInteractive(key) {\n",
              "        const element = document.querySelector('#df-d0c679e6-190c-470e-ae59-614ead659680');\n",
              "        const dataTable =\n",
              "          await google.colab.kernel.invokeFunction('convertToInteractive',\n",
              "                                                    [key], {});\n",
              "        if (!dataTable) return;\n",
              "\n",
              "        const docLinkHtml = 'Like what you see? Visit the ' +\n",
              "          '<a target=\"_blank\" href=https://colab.research.google.com/notebooks/data_table.ipynb>data table notebook</a>'\n",
              "          + ' to learn more about interactive tables.';\n",
              "        element.innerHTML = '';\n",
              "        dataTable['output_type'] = 'display_data';\n",
              "        await google.colab.output.renderOutput(dataTable, element);\n",
              "        const docLink = document.createElement('div');\n",
              "        docLink.innerHTML = docLinkHtml;\n",
              "        element.appendChild(docLink);\n",
              "      }\n",
              "    </script>\n",
              "  </div>\n",
              "\n",
              "\n",
              "<div id=\"df-4dc4b025-c035-4ff7-b176-2edf08090e6d\">\n",
              "  <button class=\"colab-df-quickchart\" onclick=\"quickchart('df-4dc4b025-c035-4ff7-b176-2edf08090e6d')\"\n",
              "            title=\"Suggest charts\"\n",
              "            style=\"display:none;\">\n",
              "\n",
              "<svg xmlns=\"http://www.w3.org/2000/svg\" height=\"24px\"viewBox=\"0 0 24 24\"\n",
              "     width=\"24px\">\n",
              "    <g>\n",
              "        <path d=\"M19 3H5c-1.1 0-2 .9-2 2v14c0 1.1.9 2 2 2h14c1.1 0 2-.9 2-2V5c0-1.1-.9-2-2-2zM9 17H7v-7h2v7zm4 0h-2V7h2v10zm4 0h-2v-4h2v4z\"/>\n",
              "    </g>\n",
              "</svg>\n",
              "  </button>\n",
              "\n",
              "<style>\n",
              "  .colab-df-quickchart {\n",
              "      --bg-color: #E8F0FE;\n",
              "      --fill-color: #1967D2;\n",
              "      --hover-bg-color: #E2EBFA;\n",
              "      --hover-fill-color: #174EA6;\n",
              "      --disabled-fill-color: #AAA;\n",
              "      --disabled-bg-color: #DDD;\n",
              "  }\n",
              "\n",
              "  [theme=dark] .colab-df-quickchart {\n",
              "      --bg-color: #3B4455;\n",
              "      --fill-color: #D2E3FC;\n",
              "      --hover-bg-color: #434B5C;\n",
              "      --hover-fill-color: #FFFFFF;\n",
              "      --disabled-bg-color: #3B4455;\n",
              "      --disabled-fill-color: #666;\n",
              "  }\n",
              "\n",
              "  .colab-df-quickchart {\n",
              "    background-color: var(--bg-color);\n",
              "    border: none;\n",
              "    border-radius: 50%;\n",
              "    cursor: pointer;\n",
              "    display: none;\n",
              "    fill: var(--fill-color);\n",
              "    height: 32px;\n",
              "    padding: 0;\n",
              "    width: 32px;\n",
              "  }\n",
              "\n",
              "  .colab-df-quickchart:hover {\n",
              "    background-color: var(--hover-bg-color);\n",
              "    box-shadow: 0 1px 2px rgba(60, 64, 67, 0.3), 0 1px 3px 1px rgba(60, 64, 67, 0.15);\n",
              "    fill: var(--button-hover-fill-color);\n",
              "  }\n",
              "\n",
              "  .colab-df-quickchart-complete:disabled,\n",
              "  .colab-df-quickchart-complete:disabled:hover {\n",
              "    background-color: var(--disabled-bg-color);\n",
              "    fill: var(--disabled-fill-color);\n",
              "    box-shadow: none;\n",
              "  }\n",
              "\n",
              "  .colab-df-spinner {\n",
              "    border: 2px solid var(--fill-color);\n",
              "    border-color: transparent;\n",
              "    border-bottom-color: var(--fill-color);\n",
              "    animation:\n",
              "      spin 1s steps(1) infinite;\n",
              "  }\n",
              "\n",
              "  @keyframes spin {\n",
              "    0% {\n",
              "      border-color: transparent;\n",
              "      border-bottom-color: var(--fill-color);\n",
              "      border-left-color: var(--fill-color);\n",
              "    }\n",
              "    20% {\n",
              "      border-color: transparent;\n",
              "      border-left-color: var(--fill-color);\n",
              "      border-top-color: var(--fill-color);\n",
              "    }\n",
              "    30% {\n",
              "      border-color: transparent;\n",
              "      border-left-color: var(--fill-color);\n",
              "      border-top-color: var(--fill-color);\n",
              "      border-right-color: var(--fill-color);\n",
              "    }\n",
              "    40% {\n",
              "      border-color: transparent;\n",
              "      border-right-color: var(--fill-color);\n",
              "      border-top-color: var(--fill-color);\n",
              "    }\n",
              "    60% {\n",
              "      border-color: transparent;\n",
              "      border-right-color: var(--fill-color);\n",
              "    }\n",
              "    80% {\n",
              "      border-color: transparent;\n",
              "      border-right-color: var(--fill-color);\n",
              "      border-bottom-color: var(--fill-color);\n",
              "    }\n",
              "    90% {\n",
              "      border-color: transparent;\n",
              "      border-bottom-color: var(--fill-color);\n",
              "    }\n",
              "  }\n",
              "</style>\n",
              "\n",
              "  <script>\n",
              "    async function quickchart(key) {\n",
              "      const quickchartButtonEl =\n",
              "        document.querySelector('#' + key + ' button');\n",
              "      quickchartButtonEl.disabled = true;  // To prevent multiple clicks.\n",
              "      quickchartButtonEl.classList.add('colab-df-spinner');\n",
              "      try {\n",
              "        const charts = await google.colab.kernel.invokeFunction(\n",
              "            'suggestCharts', [key], {});\n",
              "      } catch (error) {\n",
              "        console.error('Error during call to suggestCharts:', error);\n",
              "      }\n",
              "      quickchartButtonEl.classList.remove('colab-df-spinner');\n",
              "      quickchartButtonEl.classList.add('colab-df-quickchart-complete');\n",
              "    }\n",
              "    (() => {\n",
              "      let quickchartButtonEl =\n",
              "        document.querySelector('#df-4dc4b025-c035-4ff7-b176-2edf08090e6d button');\n",
              "      quickchartButtonEl.style.display =\n",
              "        google.colab.kernel.accessAllowed ? 'block' : 'none';\n",
              "    })();\n",
              "  </script>\n",
              "</div>\n",
              "\n",
              "    </div>\n",
              "  </div>\n"
            ],
            "application/vnd.google.colaboratory.intrinsic+json": {
              "type": "dataframe",
              "variable_name": "df",
              "summary": "{\n  \"name\": \"df\",\n  \"rows\": 7,\n  \"fields\": [\n    {\n      \"column\": \"sentence\",\n      \"properties\": {\n        \"dtype\": \"string\",\n        \"num_unique_values\": 7,\n        \"samples\": [\n          \"\\nEducation is essential for personal and societal growth.\",\n          \"It enables individuals to develop skills, gain knowledge, and make informed decisions.\",\n          \"Moreover, education helps in building a more equitable society by providing opportunities for social mobility and reducing poverty.\"\n        ],\n        \"semantic_type\": \"\",\n        \"description\": \"\"\n      }\n    }\n  ]\n}"
            }
          },
          "metadata": {},
          "execution_count": 3
        }
      ]
    },
    {
      "cell_type": "markdown",
      "source": [
        "**Create A Search Engine**\n",
        "\n",
        "I created a simple search engine using each sentence as my \"documents.\" I implemented a search function to find specific pieces of text."
      ],
      "metadata": {
        "id": "hxliLnXfz8xe"
      }
    },
    {
      "cell_type": "code",
      "source": [
        "from sklearn.feature_extraction.text import TfidfVectorizer\n",
        "from sklearn.metrics.pairwise import cosine_similarity\n",
        "\n",
        "# Initialize and fit the vectorizer\n",
        "vectorizer = TfidfVectorizer()\n",
        "tfidf_matrix = vectorizer.fit_transform(df['sentence'])\n",
        "\n",
        "def search(query, tfidf_matrix, vectorizer, sentences):\n",
        "    query_vec = vectorizer.transform([query])\n",
        "    results = cosine_similarity(query_vec, tfidf_matrix).flatten()\n",
        "    top_indices = results.argsort()[-3:][::-1]  # Top 3 results\n",
        "    return sentences.iloc[top_indices]\n",
        "\n",
        "# Example search query\n",
        "search_results = search(\"importance of education\", tfidf_matrix, vectorizer, df['sentence'])\n",
        "print(\"Search Results for 'importance of education':\")\n",
        "print(search_results)\n"
      ],
      "metadata": {
        "colab": {
          "base_uri": "https://localhost:8080/"
        },
        "id": "-6hi6U7c0ADI",
        "outputId": "c33f4dcb-11ad-4509-80e7-3b048ac52f80"
      },
      "execution_count": 4,
      "outputs": [
        {
          "output_type": "stream",
          "name": "stdout",
          "text": [
            "Search Results for 'importance of education':\n",
            "6    By understanding the importance of education, ...\n",
            "2    The purpose of education goes beyond academic ...\n",
            "0    \\nEducation is essential for personal and soci...\n",
            "Name: sentence, dtype: object\n"
          ]
        }
      ]
    },
    {
      "cell_type": "markdown",
      "source": [
        "I examined the search results and was pleased to find that the search engine accurately retrieved relevant sentences related to the query. It effectively highlighted the importance of education in societal growth and personal development."
      ],
      "metadata": {
        "id": "k6FgEeb60KiB"
      }
    },
    {
      "cell_type": "markdown",
      "source": [
        "**Create A Recommendation System**\n",
        "\n",
        "Using the same sentences, I developed a recommendation system to find similar sentences based on their themes."
      ],
      "metadata": {
        "id": "ByrCT4Sw0PpC"
      }
    },
    {
      "cell_type": "code",
      "source": [
        "def recommend(sentence, tfidf_matrix, vectorizer, sentences):\n",
        "    query_vec = vectorizer.transform([sentence])\n",
        "    results = cosine_similarity(query_vec, tfidf_matrix).flatten()\n",
        "    top_indices = results.argsort()[-3:][::-1]\n",
        "    return sentences.iloc[top_indices]\n",
        "\n",
        "# Example recommendation based on a theme\n",
        "recommendation_results = recommend(\"education and social growth\", tfidf_matrix, vectorizer, df['sentence'])\n",
        "print(\"\\nRecommendation Results for 'education and social growth':\")\n",
        "print(recommendation_results)\n"
      ],
      "metadata": {
        "colab": {
          "base_uri": "https://localhost:8080/"
        },
        "id": "Uv7Pvceo0UFy",
        "outputId": "a4abdf69-bad7-49e9-a9cf-dd002f4269c4"
      },
      "execution_count": 5,
      "outputs": [
        {
          "output_type": "stream",
          "name": "stdout",
          "text": [
            "\n",
            "Recommendation Results for 'education and social growth':\n",
            "0    \\nEducation is essential for personal and soci...\n",
            "5    Moreover, education helps in building a more e...\n",
            "2    The purpose of education goes beyond academic ...\n",
            "Name: sentence, dtype: object\n"
          ]
        }
      ]
    },
    {
      "cell_type": "markdown",
      "source": [
        "The recommendation system successfully identified sentences that discussed education's role in societal growth and poverty reduction. However, I noted that a more diverse set of texts discussing various educational perspectives might improve the recommendations."
      ],
      "metadata": {
        "id": "XoZ0bm6w0vyX"
      }
    },
    {
      "cell_type": "markdown",
      "source": [
        "**Create Text Summaries**\n",
        "\n",
        "I created a human summary of the text to capture the main ideas.\n",
        "\n",
        "**Human Summary:** Education fosters critical thinking and creativity, and it plays a key role in reducing poverty and building a better society.\n",
        "\n",
        "Next, I implemented LSA, TextRank, and Topic Modeling to generate automatic summaries."
      ],
      "metadata": {
        "id": "PQu7tqa802Kg"
      }
    },
    {
      "cell_type": "markdown",
      "source": [
        "1. LSA Summary"
      ],
      "metadata": {
        "id": "aCj14YBn1FwY"
      }
    },
    {
      "cell_type": "code",
      "source": [
        "from sklearn.decomposition import TruncatedSVD\n",
        "\n",
        "# Apply LSA\n",
        "svd = TruncatedSVD(n_components=1)\n",
        "lsa_summary = svd.fit_transform(tfidf_matrix)\n",
        "\n",
        "# Combine with original sentences and get top N sentences\n",
        "lsa_df = pd.DataFrame(lsa_summary, columns=['lsa_score'])\n",
        "lsa_sentences = pd.concat([df, lsa_df], axis=1)\n",
        "top_n = 2  # Number of sentences in the summary\n",
        "top_lsa_sentences = lsa_sentences.nlargest(top_n, 'lsa_score')['sentence'].values\n",
        "print(\"LSA Summary:\")\n",
        "print(top_lsa_sentences)\n"
      ],
      "metadata": {
        "colab": {
          "base_uri": "https://localhost:8080/"
        },
        "id": "KNQ7n38r1J7B",
        "outputId": "682deb94-51ab-4b63-f021-bb743a85f78d"
      },
      "execution_count": 6,
      "outputs": [
        {
          "output_type": "stream",
          "name": "stdout",
          "text": [
            "LSA Summary:\n",
            "['By understanding the importance of education, societies can invest in future generations to create a better world for everyone.'\n",
            " 'Moreover, education helps in building a more equitable society by providing opportunities for social mobility and reducing poverty.']\n"
          ]
        }
      ]
    },
    {
      "cell_type": "markdown",
      "source": [
        "2.TextRank Summary"
      ],
      "metadata": {
        "id": "KO3Foc4x1c9Y"
      }
    },
    {
      "cell_type": "code",
      "source": [
        "import networkx as nx\n",
        "\n",
        "def textrank_summary(sentences):\n",
        "    # Create a similarity matrix\n",
        "    similarity_matrix = cosine_similarity(tfidf_matrix)\n",
        "    nx_graph = nx.from_numpy_array(similarity_matrix)\n",
        "    scores = nx.pagerank(nx_graph)\n",
        "    ranked_sentences = sorted(((scores[i], s) for i, s in enumerate(sentences)), reverse=True)\n",
        "    return [s[1] for s in ranked_sentences[:2]]  # Top 2 sentences\n",
        "\n",
        "top_textrank_sentences = textrank_summary(df['sentence'])\n",
        "print(\"\\nTextRank Summary:\")\n",
        "print(top_textrank_sentences)\n"
      ],
      "metadata": {
        "colab": {
          "base_uri": "https://localhost:8080/"
        },
        "id": "kd9kfKp_1O4p",
        "outputId": "4fb371ab-c5b3-4bc3-efac-cb08aab11d7d"
      },
      "execution_count": 7,
      "outputs": [
        {
          "output_type": "stream",
          "name": "stdout",
          "text": [
            "\n",
            "TextRank Summary:\n",
            "['By understanding the importance of education, societies can invest in future generations to create a better world for everyone.', 'Moreover, education helps in building a more equitable society by providing opportunities for social mobility and reducing poverty.']\n"
          ]
        }
      ]
    },
    {
      "cell_type": "code",
      "source": [
        "!pip install gensim nltk"
      ],
      "metadata": {
        "colab": {
          "base_uri": "https://localhost:8080/"
        },
        "id": "jlhDk87r2GVQ",
        "outputId": "c754d857-e81b-479b-f282-d1645456bb2c"
      },
      "execution_count": 10,
      "outputs": [
        {
          "output_type": "stream",
          "name": "stdout",
          "text": [
            "Requirement already satisfied: gensim in /usr/local/lib/python3.10/dist-packages (4.3.3)\n",
            "Requirement already satisfied: nltk in /usr/local/lib/python3.10/dist-packages (3.8.1)\n",
            "Requirement already satisfied: numpy<2.0,>=1.18.5 in /usr/local/lib/python3.10/dist-packages (from gensim) (1.26.4)\n",
            "Requirement already satisfied: scipy<1.14.0,>=1.7.0 in /usr/local/lib/python3.10/dist-packages (from gensim) (1.13.1)\n",
            "Requirement already satisfied: smart-open>=1.8.1 in /usr/local/lib/python3.10/dist-packages (from gensim) (7.0.5)\n",
            "Requirement already satisfied: click in /usr/local/lib/python3.10/dist-packages (from nltk) (8.1.7)\n",
            "Requirement already satisfied: joblib in /usr/local/lib/python3.10/dist-packages (from nltk) (1.4.2)\n",
            "Requirement already satisfied: regex>=2021.8.3 in /usr/local/lib/python3.10/dist-packages (from nltk) (2024.9.11)\n",
            "Requirement already satisfied: tqdm in /usr/local/lib/python3.10/dist-packages (from nltk) (4.66.6)\n",
            "Requirement already satisfied: wrapt in /usr/local/lib/python3.10/dist-packages (from smart-open>=1.8.1->gensim) (1.16.0)\n"
          ]
        }
      ]
    },
    {
      "cell_type": "code",
      "source": [
        "!pip install gensim nltk pyLDAvis"
      ],
      "metadata": {
        "colab": {
          "base_uri": "https://localhost:8080/"
        },
        "id": "smCJMkQj3Pxz",
        "outputId": "2d984017-6800-4d65-9a04-1bbdc9033bd4"
      },
      "execution_count": 13,
      "outputs": [
        {
          "output_type": "stream",
          "name": "stdout",
          "text": [
            "Requirement already satisfied: gensim in /usr/local/lib/python3.10/dist-packages (4.3.3)\n",
            "Requirement already satisfied: nltk in /usr/local/lib/python3.10/dist-packages (3.8.1)\n",
            "Collecting pyLDAvis\n",
            "  Downloading pyLDAvis-3.4.1-py3-none-any.whl.metadata (4.2 kB)\n",
            "Requirement already satisfied: numpy<2.0,>=1.18.5 in /usr/local/lib/python3.10/dist-packages (from gensim) (1.26.4)\n",
            "Requirement already satisfied: scipy<1.14.0,>=1.7.0 in /usr/local/lib/python3.10/dist-packages (from gensim) (1.13.1)\n",
            "Requirement already satisfied: smart-open>=1.8.1 in /usr/local/lib/python3.10/dist-packages (from gensim) (7.0.5)\n",
            "Requirement already satisfied: click in /usr/local/lib/python3.10/dist-packages (from nltk) (8.1.7)\n",
            "Requirement already satisfied: joblib in /usr/local/lib/python3.10/dist-packages (from nltk) (1.4.2)\n",
            "Requirement already satisfied: regex>=2021.8.3 in /usr/local/lib/python3.10/dist-packages (from nltk) (2024.9.11)\n",
            "Requirement already satisfied: tqdm in /usr/local/lib/python3.10/dist-packages (from nltk) (4.66.6)\n",
            "Requirement already satisfied: pandas>=2.0.0 in /usr/local/lib/python3.10/dist-packages (from pyLDAvis) (2.2.2)\n",
            "Requirement already satisfied: jinja2 in /usr/local/lib/python3.10/dist-packages (from pyLDAvis) (3.1.4)\n",
            "Requirement already satisfied: numexpr in /usr/local/lib/python3.10/dist-packages (from pyLDAvis) (2.10.1)\n",
            "Collecting funcy (from pyLDAvis)\n",
            "  Downloading funcy-2.0-py2.py3-none-any.whl.metadata (5.9 kB)\n",
            "Requirement already satisfied: scikit-learn>=1.0.0 in /usr/local/lib/python3.10/dist-packages (from pyLDAvis) (1.5.2)\n",
            "Requirement already satisfied: setuptools in /usr/local/lib/python3.10/dist-packages (from pyLDAvis) (75.1.0)\n",
            "Requirement already satisfied: python-dateutil>=2.8.2 in /usr/local/lib/python3.10/dist-packages (from pandas>=2.0.0->pyLDAvis) (2.8.2)\n",
            "Requirement already satisfied: pytz>=2020.1 in /usr/local/lib/python3.10/dist-packages (from pandas>=2.0.0->pyLDAvis) (2024.2)\n",
            "Requirement already satisfied: tzdata>=2022.7 in /usr/local/lib/python3.10/dist-packages (from pandas>=2.0.0->pyLDAvis) (2024.2)\n",
            "Requirement already satisfied: threadpoolctl>=3.1.0 in /usr/local/lib/python3.10/dist-packages (from scikit-learn>=1.0.0->pyLDAvis) (3.5.0)\n",
            "Requirement already satisfied: wrapt in /usr/local/lib/python3.10/dist-packages (from smart-open>=1.8.1->gensim) (1.16.0)\n",
            "Requirement already satisfied: MarkupSafe>=2.0 in /usr/local/lib/python3.10/dist-packages (from jinja2->pyLDAvis) (3.0.2)\n",
            "Requirement already satisfied: six>=1.5 in /usr/local/lib/python3.10/dist-packages (from python-dateutil>=2.8.2->pandas>=2.0.0->pyLDAvis) (1.16.0)\n",
            "Downloading pyLDAvis-3.4.1-py3-none-any.whl (2.6 MB)\n",
            "\u001b[2K   \u001b[90m━━━━━━━━━━━━━━━━━━━━━━━━━━━━━━━━━━━━━━━━\u001b[0m \u001b[32m2.6/2.6 MB\u001b[0m \u001b[31m25.6 MB/s\u001b[0m eta \u001b[36m0:00:00\u001b[0m\n",
            "\u001b[?25hDownloading funcy-2.0-py2.py3-none-any.whl (30 kB)\n",
            "Installing collected packages: funcy, pyLDAvis\n",
            "Successfully installed funcy-2.0 pyLDAvis-3.4.1\n"
          ]
        }
      ]
    },
    {
      "cell_type": "markdown",
      "source": [
        "Topic Modeling Summary"
      ],
      "metadata": {
        "id": "rAXNiOzN1iFh"
      }
    },
    {
      "cell_type": "code",
      "source": [
        "import pandas as pd\n",
        "import nltk\n",
        "from nltk.corpus import stopwords\n",
        "from nltk.tokenize import word_tokenize\n",
        "from gensim import corpora\n",
        "from gensim.models import LdaModel\n",
        "import pyLDAvis\n",
        "import pyLDAvis.gensim_models\n",
        "\n",
        "# Download NLTK resources\n",
        "nltk.download('punkt')\n",
        "nltk.download('stopwords')\n",
        "\n",
        "# Tokenize the text into sentences\n",
        "sentences = nltk.sent_tokenize(text)\n",
        "df = pd.DataFrame(sentences, columns=['sentence'])\n",
        "\n",
        "# Define stop words\n",
        "stop_words = set(stopwords.words('english'))\n",
        "\n",
        "# Tokenize and clean the sentences\n",
        "processed_docs = []\n",
        "for sentence in df['sentence']:\n",
        "    tokens = nltk.word_tokenize(sentence.lower())  # Lowercase and tokenize\n",
        "    filtered_tokens = [token for token in tokens if token.isalnum() and token not in stop_words]  # Remove stop words and punctuation\n",
        "    processed_docs.append(filtered_tokens)  # Append cleaned tokens to the list\n",
        "\n",
        "# Create a dictionary and corpus for LDA\n",
        "dictionary = corpora.Dictionary(processed_docs)\n",
        "corpus = [dictionary.doc2bow(doc) for doc in processed_docs]\n",
        "\n",
        "# Train the LDA model\n",
        "num_topics = 2  # Adjust based on your needs\n",
        "lda_model = LdaModel(corpus, num_topics=num_topics, id2word=dictionary, passes=15)\n",
        "\n",
        "# Display the topics\n",
        "print(\"\\nLDA Topics:\")\n",
        "for idx, topic in lda_model.print_topics(-1):\n",
        "    print(f\"Topic {idx}: {topic}\")\n",
        "\n",
        "# Visualize the topics\n",
        "vis = pyLDAvis.gensim_models.prepare(lda_model, corpus, dictionary)\n",
        "pyLDAvis.display(vis)"
      ],
      "metadata": {
        "colab": {
          "base_uri": "https://localhost:8080/",
          "height": 1000
        },
        "id": "NdskcbQq1T8j",
        "outputId": "feac6847-562b-4656-e075-0ce9bb71cf58"
      },
      "execution_count": 14,
      "outputs": [
        {
          "output_type": "stream",
          "name": "stderr",
          "text": [
            "[nltk_data] Downloading package punkt to /root/nltk_data...\n",
            "[nltk_data]   Package punkt is already up-to-date!\n",
            "[nltk_data] Downloading package stopwords to /root/nltk_data...\n",
            "[nltk_data]   Unzipping corpora/stopwords.zip.\n"
          ]
        },
        {
          "output_type": "stream",
          "name": "stdout",
          "text": [
            "\n",
            "LDA Topics:\n",
            "Topic 0: 0.043*\"education\" + 0.025*\"society\" + 0.025*\"equitable\" + 0.025*\"providing\" + 0.025*\"mobility\" + 0.025*\"social\" + 0.025*\"building\" + 0.025*\"opportunities\" + 0.025*\"reducing\" + 0.025*\"moreover\"\n",
            "Topic 1: 0.038*\"learning\" + 0.026*\"education\" + 0.016*\"online\" + 0.016*\"recent\" + 0.016*\"like\" + 0.016*\"years\" + 0.016*\"technology\" + 0.016*\"classrooms\" + 0.016*\"educational\" + 0.016*\"platforms\"\n"
          ]
        },
        {
          "output_type": "execute_result",
          "data": {
            "text/plain": [
              "<IPython.core.display.HTML object>"
            ],
            "text/html": [
              "\n",
              "<link rel=\"stylesheet\" type=\"text/css\" href=\"https://cdn.jsdelivr.net/gh/bmabey/pyLDAvis@3.4.0/pyLDAvis/js/ldavis.v1.0.0.css\">\n",
              "\n",
              "\n",
              "<div id=\"ldavis_el214137539051447440907388605\" style=\"background-color:white;\"></div>\n",
              "<script type=\"text/javascript\">\n",
              "\n",
              "var ldavis_el214137539051447440907388605_data = {\"mdsDat\": {\"x\": [0.054625703059300534, -0.054625703059300534], \"y\": [0.0, 0.0], \"topics\": [1, 2], \"cluster\": [1, 1], \"Freq\": [68.92622074046005, 31.073779259539947]}, \"tinfo\": {\"Term\": [\"education\", \"society\", \"equitable\", \"providing\", \"mobility\", \"social\", \"building\", \"opportunities\", \"reducing\", \"moreover\", \"poverty\", \"helps\", \"future\", \"better\", \"generations\", \"create\", \"importance\", \"invest\", \"everyone\", \"world\", \"understanding\", \"societies\", \"learning\", \"growth\", \"societal\", \"personal\", \"essential\", \"enables\", \"make\", \"gain\", \"learning\", \"online\", \"recent\", \"like\", \"years\", \"technology\", \"classrooms\", \"educational\", \"platforms\", \"tools\", \"transformed\", \"simulations\", \"introducing\", \"interactive\", \"virtual\", \"practices\", \"dynamic\", \"teachers\", \"even\", \"lifelong\", \"learners\", \"independent\", \"facilitators\", \"guiding\", \"thinkers\", \"role\", \"play\", \"students\", \"creativity\", \"goes\", \"education\", \"society\", \"equitable\", \"providing\", \"mobility\", \"social\", \"building\", \"opportunities\", \"reducing\", \"moreover\", \"poverty\", \"helps\", \"future\", \"better\", \"generations\", \"create\", \"importance\", \"invest\", \"everyone\", \"world\", \"understanding\", \"societies\", \"education\", \"growth\", \"societal\", \"personal\", \"essential\", \"enables\", \"make\", \"gain\", \"informed\"], \"Freq\": [2.0, 0.0, 0.0, 0.0, 0.0, 0.0, 0.0, 0.0, 0.0, 0.0, 0.0, 0.0, 0.0, 0.0, 0.0, 0.0, 0.0, 0.0, 0.0, 0.0, 0.0, 0.0, 2.0, 1.0, 1.0, 1.0, 1.0, 1.0, 1.0, 1.0, 2.0528367893240893, 0.8793140224534138, 0.8793048942734876, 0.8793041843039378, 0.8792827837932217, 0.879281870975229, 0.8792772054610445, 0.8792746698555094, 0.8792677730084539, 0.8792520522541364, 0.8792489081032729, 0.8792388671053539, 0.879222030684601, 0.8792195965032873, 0.8792169594735308, 0.8791958632354789, 0.8790693872313888, 0.8790660402320826, 0.8790625918085548, 0.8790578248701488, 0.8790454511151377, 0.8790443354487022, 0.8790436254791524, 0.8790434226307096, 0.8790390613891892, 0.8790362215109899, 0.8790348015718903, 0.8790322659663552, 0.878645535410144, 0.8785124668316627, 1.4185411696041679, 0.6105967221502684, 0.6105958076553684, 0.6105955790316433, 0.6105954875821533, 0.6105947102614883, 0.610591646703573, 0.610591372355103, 0.6105901377869878, 0.6105883545219327, 0.6105785237017568, 0.6105770605099167, 0.6104794839040777, 0.610461559804036, 0.610460370960666, 0.6104590449430608, 0.6104435899792494, 0.6104363654695387, 0.6104234710914476, 0.6104232424677225, 0.6104027120572156, 0.6103849708561541, 1.0526780973197294, 0.20856258757206592, 0.2084729670718577, 0.20845886098802388, 0.20829850430729419, 0.20560403653368703, 0.2055796881069723, 0.2055657649221185, 0.205543702732654], \"Total\": [2.0, 0.0, 0.0, 0.0, 0.0, 0.0, 0.0, 0.0, 0.0, 0.0, 0.0, 0.0, 0.0, 0.0, 0.0, 0.0, 0.0, 0.0, 0.0, 0.0, 0.0, 0.0, 2.0, 1.0, 1.0, 1.0, 1.0, 1.0, 1.0, 1.0, 2.257984470040262, 1.0839605142395956, 1.08395769607448, 1.083957397627635, 1.0839509491085353, 1.0839505621251102, 1.083949234517311, 1.0839483678649686, 1.0839462492537661, 1.083941479575877, 1.0839405302127738, 1.0839374622384679, 1.0839322627653185, 1.0839315432619425, 1.0839307123596136, 1.0839242709023356, 1.083885517821536, 1.0838844799218526, 1.0838834320474375, 1.0838819801530444, 1.0838781569253488, 1.083877887166696, 1.0838776344445962, 1.083877591632761, 1.083876293949156, 1.0838754202349918, 1.0838749147907922, 1.0838741395879399, 1.0837557675601581, 1.083715040104213, 2.4712192669238973, 0.9048797851657635, 0.9048801131175757, 0.90488021412257, 0.9048803001654676, 0.904880638511238, 0.9048819869069538, 0.904882092899314, 0.9048826332550733, 0.9048834109516087, 0.9048878555905954, 0.9048884208831833, 0.9049314689603201, 0.9049394080367363, 0.9049398419809087, 0.9049404937356209, 0.9049472506762969, 0.9049505235735015, 0.9049561391158164, 0.9049562401208109, 0.9049653509390092, 0.904973143285686, 2.4712192669238973, 1.0822322506801585, 1.0822718446380182, 1.082278023398465, 1.0823488125183138, 1.0835377767580219, 1.0835485211119127, 1.0835546799228968, 1.0835643635147316], \"Category\": [\"Default\", \"Default\", \"Default\", \"Default\", \"Default\", \"Default\", \"Default\", \"Default\", \"Default\", \"Default\", \"Default\", \"Default\", \"Default\", \"Default\", \"Default\", \"Default\", \"Default\", \"Default\", \"Default\", \"Default\", \"Default\", \"Default\", \"Default\", \"Default\", \"Default\", \"Default\", \"Default\", \"Default\", \"Default\", \"Default\", \"Topic1\", \"Topic1\", \"Topic1\", \"Topic1\", \"Topic1\", \"Topic1\", \"Topic1\", \"Topic1\", \"Topic1\", \"Topic1\", \"Topic1\", \"Topic1\", \"Topic1\", \"Topic1\", \"Topic1\", \"Topic1\", \"Topic1\", \"Topic1\", \"Topic1\", \"Topic1\", \"Topic1\", \"Topic1\", \"Topic1\", \"Topic1\", \"Topic1\", \"Topic1\", \"Topic1\", \"Topic1\", \"Topic1\", \"Topic1\", \"Topic1\", \"Topic2\", \"Topic2\", \"Topic2\", \"Topic2\", \"Topic2\", \"Topic2\", \"Topic2\", \"Topic2\", \"Topic2\", \"Topic2\", \"Topic2\", \"Topic2\", \"Topic2\", \"Topic2\", \"Topic2\", \"Topic2\", \"Topic2\", \"Topic2\", \"Topic2\", \"Topic2\", \"Topic2\", \"Topic2\", \"Topic2\", \"Topic2\", \"Topic2\", \"Topic2\", \"Topic2\", \"Topic2\", \"Topic2\", \"Topic2\"], \"logprob\": [30.0, 29.0, 28.0, 27.0, 26.0, 25.0, 24.0, 23.0, 22.0, 21.0, 20.0, 19.0, 18.0, 17.0, 16.0, 15.0, 14.0, 13.0, 12.0, 11.0, 10.0, 9.0, 8.0, 7.0, 6.0, 5.0, 4.0, 3.0, 2.0, 1.0, -3.2781, -4.1259, -4.1259, -4.1259, -4.126, -4.126, -4.126, -4.126, -4.126, -4.126, -4.126, -4.126, -4.126, -4.126, -4.126, -4.1261, -4.1262, -4.1262, -4.1262, -4.1262, -4.1262, -4.1262, -4.1262, -4.1262, -4.1262, -4.1262, -4.1262, -4.1262, -4.1267, -4.1268, -3.6477, -3.694, -3.694, -3.694, -3.694, -3.694, -3.694, -3.694, -3.694, -3.694, -3.694, -3.694, -3.6942, -3.6942, -3.6942, -3.6942, -3.6942, -3.6942, -3.6942, -3.6942, -3.6943, -3.6943, -3.1493, -4.7682, -4.7686, -4.7687, -4.7694, -4.7824, -4.7826, -4.7826, -4.7827], \"loglift\": [30.0, 29.0, 28.0, 27.0, 26.0, 25.0, 24.0, 23.0, 22.0, 21.0, 20.0, 19.0, 18.0, 17.0, 16.0, 15.0, 14.0, 13.0, 12.0, 11.0, 10.0, 9.0, 8.0, 7.0, 6.0, 5.0, 4.0, 3.0, 2.0, 1.0, 0.2769, 0.1629, 0.1629, 0.1629, 0.1629, 0.1629, 0.1629, 0.1629, 0.1629, 0.1628, 0.1628, 0.1628, 0.1628, 0.1628, 0.1628, 0.1628, 0.1627, 0.1627, 0.1627, 0.1627, 0.1627, 0.1627, 0.1627, 0.1627, 0.1627, 0.1627, 0.1627, 0.1627, 0.1623, 0.1622, -0.1829, 0.7754, 0.7754, 0.7754, 0.7754, 0.7754, 0.7754, 0.7754, 0.7754, 0.7754, 0.7754, 0.7754, 0.7752, 0.7752, 0.7752, 0.7751, 0.7751, 0.7751, 0.7751, 0.7751, 0.775, 0.775, 0.3154, -0.4777, -0.4782, -0.4783, -0.4791, -0.4932, -0.4934, -0.4934, -0.4935]}, \"token.table\": {\"Topic\": [2, 2, 1, 2, 1, 1, 1, 2, 1, 1, 2, 1, 1, 2, 1, 2, 1, 2, 1, 1, 1, 2, 2, 1, 1, 1, 1, 2, 1, 1, 1, 1, 1, 2, 2, 1, 2, 1, 1, 1, 2, 1, 2, 1, 2, 1, 1, 2, 1, 2, 2, 1, 1, 1, 1, 1, 1, 2, 1, 2, 1], \"Freq\": [1.1050463612469894, 1.1051164842148935, 0.9225524297226945, 1.1050450354718582, 0.922717119421919, 0.922606662380604, 0.40465854786118244, 0.40465854786118244, 0.9225531673336803, 0.9229027556307547, 1.1051187726457028, 0.9239165677775246, 0.922608437801302, 1.1050259308446106, 0.9226133727839333, 1.1050560559562643, 0.9228883585931793, 1.1050458313460982, 0.9227517963613731, 0.9240160782230641, 0.9226134092260296, 1.1051086265685515, 1.105036784467456, 0.9226131576630311, 0.9228801109297505, 0.9225674870487096, 0.9225668746576551, 1.1050327879265307, 0.9226129280404662, 0.8857456844972624, 0.9226096736646547, 0.9225454821274476, 0.922893604223485, 1.1051185442064975, 1.1051147450568943, 0.9225428296172814, 1.1051163547682998, 0.9239769988675336, 0.9225549704964077, 0.9226156878010396, 1.1051093169410784, 0.922573676819257, 1.1051186492895795, 0.9225452281223426, 1.1051156948418464, 0.9226152575571765, 0.9225624492531825, 1.105118130989362, 0.9239822739123965, 1.1050051677437631, 1.1051191731692973, 0.9226163476694568, 0.9226075458448297, 0.9225512997931168, 0.9226145138357547, 0.9225590300237227, 0.9225598380417637, 1.1050146825647866, 0.9225681942557893, 1.1050258075092128, 0.9225509704312927], \"Term\": [\"better\", \"building\", \"classrooms\", \"create\", \"creativity\", \"dynamic\", \"education\", \"education\", \"educational\", \"enables\", \"equitable\", \"essential\", \"even\", \"everyone\", \"facilitators\", \"future\", \"gain\", \"generations\", \"goes\", \"growth\", \"guiding\", \"helps\", \"importance\", \"independent\", \"informed\", \"interactive\", \"introducing\", \"invest\", \"learners\", \"learning\", \"lifelong\", \"like\", \"make\", \"mobility\", \"moreover\", \"online\", \"opportunities\", \"personal\", \"platforms\", \"play\", \"poverty\", \"practices\", \"providing\", \"recent\", \"reducing\", \"role\", \"simulations\", \"social\", \"societal\", \"societies\", \"society\", \"students\", \"teachers\", \"technology\", \"thinkers\", \"tools\", \"transformed\", \"understanding\", \"virtual\", \"world\", \"years\"]}, \"R\": 30, \"lambda.step\": 0.01, \"plot.opts\": {\"xlab\": \"PC1\", \"ylab\": \"PC2\"}, \"topic.order\": [2, 1]};\n",
              "\n",
              "function LDAvis_load_lib(url, callback){\n",
              "  var s = document.createElement('script');\n",
              "  s.src = url;\n",
              "  s.async = true;\n",
              "  s.onreadystatechange = s.onload = callback;\n",
              "  s.onerror = function(){console.warn(\"failed to load library \" + url);};\n",
              "  document.getElementsByTagName(\"head\")[0].appendChild(s);\n",
              "}\n",
              "\n",
              "if(typeof(LDAvis) !== \"undefined\"){\n",
              "   // already loaded: just create the visualization\n",
              "   !function(LDAvis){\n",
              "       new LDAvis(\"#\" + \"ldavis_el214137539051447440907388605\", ldavis_el214137539051447440907388605_data);\n",
              "   }(LDAvis);\n",
              "}else if(typeof define === \"function\" && define.amd){\n",
              "   // require.js is available: use it to load d3/LDAvis\n",
              "   require.config({paths: {d3: \"https://d3js.org/d3.v5\"}});\n",
              "   require([\"d3\"], function(d3){\n",
              "      window.d3 = d3;\n",
              "      LDAvis_load_lib(\"https://cdn.jsdelivr.net/gh/bmabey/pyLDAvis@3.4.0/pyLDAvis/js/ldavis.v3.0.0.js\", function(){\n",
              "        new LDAvis(\"#\" + \"ldavis_el214137539051447440907388605\", ldavis_el214137539051447440907388605_data);\n",
              "      });\n",
              "    });\n",
              "}else{\n",
              "    // require.js not available: dynamically load d3 & LDAvis\n",
              "    LDAvis_load_lib(\"https://d3js.org/d3.v5.js\", function(){\n",
              "         LDAvis_load_lib(\"https://cdn.jsdelivr.net/gh/bmabey/pyLDAvis@3.4.0/pyLDAvis/js/ldavis.v3.0.0.js\", function(){\n",
              "                 new LDAvis(\"#\" + \"ldavis_el214137539051447440907388605\", ldavis_el214137539051447440907388605_data);\n",
              "            })\n",
              "         });\n",
              "}\n",
              "</script>"
            ]
          },
          "metadata": {},
          "execution_count": 14
        }
      ]
    },
    {
      "cell_type": "code",
      "source": [
        "!pip install rouge-score"
      ],
      "metadata": {
        "colab": {
          "base_uri": "https://localhost:8080/"
        },
        "id": "f7Ze8CIZ3y-u",
        "outputId": "616d4249-67ae-424b-ea5b-1d5464462f06"
      },
      "execution_count": 16,
      "outputs": [
        {
          "output_type": "stream",
          "name": "stderr",
          "text": [
            "/usr/local/lib/python3.10/dist-packages/ipykernel/ipkernel.py:283: DeprecationWarning: `should_run_async` will not call `transform_cell` automatically in the future. Please pass the result to `transformed_cell` argument and any exception that happen during thetransform in `preprocessing_exc_tuple` in IPython 7.17 and above.\n",
            "  and should_run_async(code)\n"
          ]
        },
        {
          "output_type": "stream",
          "name": "stdout",
          "text": [
            "Collecting rouge-score\n",
            "  Downloading rouge_score-0.1.2.tar.gz (17 kB)\n",
            "  Preparing metadata (setup.py) ... \u001b[?25l\u001b[?25hdone\n",
            "Requirement already satisfied: absl-py in /usr/local/lib/python3.10/dist-packages (from rouge-score) (1.4.0)\n",
            "Requirement already satisfied: nltk in /usr/local/lib/python3.10/dist-packages (from rouge-score) (3.8.1)\n",
            "Requirement already satisfied: numpy in /usr/local/lib/python3.10/dist-packages (from rouge-score) (1.26.4)\n",
            "Requirement already satisfied: six>=1.14.0 in /usr/local/lib/python3.10/dist-packages (from rouge-score) (1.16.0)\n",
            "Requirement already satisfied: click in /usr/local/lib/python3.10/dist-packages (from nltk->rouge-score) (8.1.7)\n",
            "Requirement already satisfied: joblib in /usr/local/lib/python3.10/dist-packages (from nltk->rouge-score) (1.4.2)\n",
            "Requirement already satisfied: regex>=2021.8.3 in /usr/local/lib/python3.10/dist-packages (from nltk->rouge-score) (2024.9.11)\n",
            "Requirement already satisfied: tqdm in /usr/local/lib/python3.10/dist-packages (from nltk->rouge-score) (4.66.6)\n",
            "Building wheels for collected packages: rouge-score\n",
            "  Building wheel for rouge-score (setup.py) ... \u001b[?25l\u001b[?25hdone\n",
            "  Created wheel for rouge-score: filename=rouge_score-0.1.2-py3-none-any.whl size=24935 sha256=c3557953b3ca471423d68652d3809d27a6fd6e8c9ba7761c22ee0e7811c699b5\n",
            "  Stored in directory: /root/.cache/pip/wheels/5f/dd/89/461065a73be61a532ff8599a28e9beef17985c9e9c31e541b4\n",
            "Successfully built rouge-score\n",
            "Installing collected packages: rouge-score\n",
            "Successfully installed rouge-score-0.1.2\n"
          ]
        }
      ]
    },
    {
      "cell_type": "markdown",
      "source": [
        "**Evaluate the Summaries**\n",
        "\n",
        "To assess the generated summaries, I compared them to the human summary. I used the ROUGE-N analyzer to quantify the similarity."
      ],
      "metadata": {
        "id": "O58V5Rfk1p0R"
      }
    },
    {
      "cell_type": "code",
      "source": [
        "from rouge_score import rouge_scorer\n",
        "\n",
        "# Initialize ROUGE\n",
        "rouge = rouge_scorer.RougeScorer(['rouge1', 'rouge2', 'rougeL'], use_stemmer=True)\n",
        "\n",
        "# Assuming I have a human summary for comparison\n",
        "human_summary = \"Education fosters critical thinking and creativity, and it plays a key role in reducing poverty and building a better society.\"\n",
        "lsa_summary_text = \" \".join(top_lsa_sentences)\n",
        "textrank_summary_text = \" \".join(top_textrank_sentences)\n",
        "\n",
        "# Get ROUGE scores\n",
        "scores_lsa = rouge.score(lsa_summary_text, human_summary)\n",
        "scores_textrank = rouge.score(textrank_summary_text, human_summary)\n",
        "\n",
        "print(\"\\nROUGE Scores for LSA Summary:\", scores_lsa)\n",
        "print(\"ROUGE Scores for TextRank Summary:\", scores_textrank)\n"
      ],
      "metadata": {
        "colab": {
          "base_uri": "https://localhost:8080/"
        },
        "id": "4ENO-KTu1tSd",
        "outputId": "ba7029d5-4af4-4ef5-d02f-ffa8f02d4d1d"
      },
      "execution_count": 17,
      "outputs": [
        {
          "output_type": "stream",
          "name": "stdout",
          "text": [
            "\n",
            "ROUGE Scores for LSA Summary: {'rouge1': Score(precision=0.5, recall=0.2702702702702703, fmeasure=0.3508771929824562), 'rouge2': Score(precision=0.15789473684210525, recall=0.08333333333333333, fmeasure=0.1090909090909091), 'rougeL': Score(precision=0.3, recall=0.16216216216216217, fmeasure=0.2105263157894737)}\n",
            "ROUGE Scores for TextRank Summary: {'rouge1': Score(precision=0.5, recall=0.2702702702702703, fmeasure=0.3508771929824562), 'rouge2': Score(precision=0.15789473684210525, recall=0.08333333333333333, fmeasure=0.1090909090909091), 'rougeL': Score(precision=0.3, recall=0.16216216216216217, fmeasure=0.2105263157894737)}\n"
          ]
        },
        {
          "output_type": "stream",
          "name": "stderr",
          "text": [
            "/usr/local/lib/python3.10/dist-packages/ipykernel/ipkernel.py:283: DeprecationWarning: `should_run_async` will not call `transform_cell` automatically in the future. Please pass the result to `transformed_cell` argument and any exception that happen during thetransform in `preprocessing_exc_tuple` in IPython 7.17 and above.\n",
            "  and should_run_async(code)\n"
          ]
        }
      ]
    }
  ]
}